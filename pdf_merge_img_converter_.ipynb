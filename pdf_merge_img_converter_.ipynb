{
 "metadata": {
  "language_info": {
   "codemirror_mode": {
    "name": "ipython",
    "version": 3
   },
   "file_extension": ".py",
   "mimetype": "text/x-python",
   "name": "python",
   "nbconvert_exporter": "python",
   "pygments_lexer": "ipython3",
   "version": "3.9.5"
  },
  "orig_nbformat": 2,
  "kernelspec": {
   "name": "python395jvsc74a57bd0e02b76cc0e2a4fbe41bc23ae1767a8d74bfdecfc0b5994b12b770fb1887b230f",
   "display_name": "Python 3.9.5 64-bit"
  },
  "metadata": {
   "interpreter": {
    "hash": "e02b76cc0e2a4fbe41bc23ae1767a8d74bfdecfc0b5994b12b770fb1887b230f"
   }
  }
 },
 "nbformat": 4,
 "nbformat_minor": 2,
 "cells": [
  {
   "source": [
    "import os\n",
    "cwd = os.getcwd()\n",
    "print(cwd)"
   ],
   "cell_type": "code",
   "metadata": {},
   "execution_count": 52,
   "outputs": [
    {
     "output_type": "stream",
     "name": "stdout",
     "text": [
      "done\n",
      "PdfReadWarning: Xref table not zero-indexed. ID numbers for objects will be corrected. [pdf.py:1736]\n"
     ]
    }
   ]
  },
  {
   "cell_type": "code",
   "execution_count": 60,
   "metadata": {},
   "outputs": [
    {
     "output_type": "stream",
     "name": "stdout",
     "text": [
      "F:\\Disc_D\\CV\\Documents\\mext_22\\main_application\n"
     ]
    }
   ],
   "source": [
    "path=\"F:\\Disc_D\\CV\\Documents\\mext_22\"\n",
    "path='F:\\Desktop-1\\Biman_doc\\Transcript'\n",
    "path='F:\\Disc_D\\CV\\Documents\\mext_22\\main_application'\n",
    "\n",
    "os.chdir(path)\n",
    "cwd = os.getcwd()\n",
    "print(cwd)"
   ]
  },
  {
   "source": [
    "## COnvert Image from current directory to PDF file\n",
    "\n",
    "import glob, img2pdf\n",
    "from pathlib import Path\n",
    "img_names=glob.glob(\"*.jpg\")\n",
    "print(img_names)\n",
    "for img in img_names:\n",
    "    \n",
    "    file_name = Path(img).stem+'.pdf'\n",
    "    print(file_name)\n",
    "    with open(file_name,\"wb\") as f:\n",
    "        f.write(img2pdf.convert(img))"
   ],
   "cell_type": "code",
   "metadata": {},
   "execution_count": 62,
   "outputs": [
    {
     "output_type": "stream",
     "name": "stdout",
     "text": [
      "['NOC_Experience_letter_techden_R&D-1.jpg']\nNOC_Experience_letter_techden_R&D-1.pdf\n"
     ]
    }
   ]
  },
  {
   "cell_type": "code",
   "execution_count": 49,
   "metadata": {},
   "outputs": [],
   "source": [
    "with open('HSC_transcript.pdf',\"wb\") as f:\n",
    "        f.write(img2pdf.convert('HSC_transcript_majhar_5.jpg'))"
   ]
  },
  {
   "cell_type": "code",
   "execution_count": 51,
   "metadata": {},
   "outputs": [
    {
     "output_type": "stream",
     "name": "stdout",
     "text": [
      "['Majhar_1.pdf', 'Majhar_2.pdf', 'majhar_3.pdf', 'Majhar_4.pdf', 'Majhar_5.pdf', 'Majhar_6_HSC_Transcript_majhr_5.pdf', 'SSC_Transcript_majhr_3.pdf']\n"
     ]
    }
   ],
   "source": [
    "import glob\n",
    "pdfs=glob.glob(\"*.pdf\")\n",
    "print(pdfs)"
   ]
  },
  {
   "cell_type": "code",
   "execution_count": 17,
   "metadata": {},
   "outputs": [
    {
     "output_type": "stream",
     "name": "stdout",
     "text": [
      "F:\\Disc_D\\CV\\Documents\\mext_22\n"
     ]
    }
   ],
   "source": [
    "from PyPDF2 import PdfFileMerger\n",
    "\n",
    "# pdfs = ['file1.pdf', 'file2.pdf', 'file3.pdf', 'file4.pdf']\n",
    "pdfs\n",
    "merger = PdfFileMerger()\n",
    "\n",
    "for pdf in pdfs:\n",
    "    merger.append(pdf)\n",
    "print(\"done\")\n",
    "merger.write(\"BSC_HSC_SSC_transcript.pdf\")\n",
    "merger.close()"
   ]
  },
  {
   "cell_type": "code",
   "execution_count": null,
   "metadata": {},
   "outputs": [],
   "source": []
  }
 ]
}